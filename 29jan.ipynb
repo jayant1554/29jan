{
 "cells": [
  {
   "cell_type": "code",
   "execution_count": null,
   "id": "d524ac59-3143-490a-8f8f-98cd17897e4f",
   "metadata": {},
   "outputs": [],
   "source": [
    "#11. Who developed Python Programming Language? \n",
    "Guido van Rossum developed python"
   ]
  },
  {
   "cell_type": "code",
   "execution_count": null,
   "id": "4d6b0b7b-bb2f-4862-ba77-811c5c5a44e2",
   "metadata": {},
   "outputs": [],
   "source": [
    "#2 Which type of Programming does Python support? \n",
    "object oriented "
   ]
  },
  {
   "cell_type": "code",
   "execution_count": null,
   "id": "d06a3fb0-10d4-4170-b15e-a070ff420cca",
   "metadata": {},
   "outputs": [],
   "source": [
    "#3 Is Python case sensitive when dealing with identifiers? \n",
    "yes"
   ]
  },
  {
   "cell_type": "code",
   "execution_count": null,
   "id": "34a4de5d-ab86-497a-b102-8fa5af46c085",
   "metadata": {},
   "outputs": [],
   "source": [
    "#4. What is the correct extension of the Python file? \n",
    ".py is the correct extension of python file"
   ]
  },
  {
   "cell_type": "code",
   "execution_count": null,
   "id": "7cea06c6-a68d-460e-8f2c-472d24415085",
   "metadata": {},
   "outputs": [],
   "source": [
    "#5  Is Python code compiled or interpreted? \n",
    "python code is interpreted\n"
   ]
  },
  {
   "cell_type": "code",
   "execution_count": null,
   "id": "1e721108-724b-48bf-bacd-8e672d598dec",
   "metadata": {},
   "outputs": [],
   "source": [
    "#6  Name a few blocks of code used to define in Python language? \n",
    "few blocks are class, a function body,module"
   ]
  },
  {
   "cell_type": "code",
   "execution_count": null,
   "id": "3a39a38a-f147-4a40-bdd8-04fb40f609ac",
   "metadata": {},
   "outputs": [],
   "source": [
    "#7  State a character used to give single-line comments in Python? \n",
    "  \"#\" is used "
   ]
  },
  {
   "cell_type": "code",
   "execution_count": null,
   "id": "93698c60-71c4-414c-b9eb-28aeaca784af",
   "metadata": {},
   "outputs": [],
   "source": [
    "#8 Mention functions which can help us to find the version of python that we are currently working on?\n",
    "sys.version is used for that"
   ]
  },
  {
   "cell_type": "code",
   "execution_count": null,
   "id": "286109f4-1651-42dd-8402-55e1c68878f7",
   "metadata": {},
   "outputs": [],
   "source": [
    "#9 python supports the creation of anonymous functions at runtime, using a construct called\n",
    "    ---lambda"
   ]
  },
  {
   "cell_type": "code",
   "execution_count": null,
   "id": "dda5c726-c9ab-4338-9065-e7647a838e7b",
   "metadata": {},
   "outputs": [],
   "source": [
    "#10 What does pip stand for python? \n",
    "pip stands for\"pip install packages\""
   ]
  },
  {
   "cell_type": "code",
   "execution_count": null,
   "id": "bce2e49e-6798-42c5-8f01-3c8eac58eb9d",
   "metadata": {},
   "outputs": [],
   "source": [
    "#11 Mention a few built-in functions in python? \n",
    " like int(), input()"
   ]
  },
  {
   "cell_type": "code",
   "execution_count": null,
   "id": "e05f4741-995a-42f8-a82d-e67fb5bf8cd2",
   "metadata": {},
   "outputs": [],
   "source": [
    "#12  What is the maximum possible length of an identifier in Python? \n",
    " 79 character  is the maximum length"
   ]
  },
  {
   "cell_type": "code",
   "execution_count": null,
   "id": "08cf785a-f243-4cf2-ac2c-8ec19ec74f6f",
   "metadata": {},
   "outputs": [],
   "source": [
    "#13 . What are the benefits of using Python? \n",
    " it is easy to use \n",
    " it is very easy to understand\n",
    " it is used world wide\n",
    " it is flexible "
   ]
  },
  {
   "cell_type": "code",
   "execution_count": null,
   "id": "4d54b65f-386a-48e8-ad10-871137d24e75",
   "metadata": {},
   "outputs": [],
   "source": [
    "#14 How is memory managed in Python?\n",
    "Python uses the dynamic memory allocation which is managed by the Heap data structure.\n",
    "Memory Heap holds the objects and other data structures that will be used in the program. \n",
    "Python memory manager manages the allocation or de-allocation of the heap memory space through the API functions."
   ]
  },
  {
   "cell_type": "code",
   "execution_count": null,
   "id": "7f9d25c4-20eb-4bf4-93d5-dedc2c7413b1",
   "metadata": {},
   "outputs": [],
   "source": [
    "#15 How to install Python on Windows and set path variables?\n",
    "follow the following steps\n",
    "step 1:Right click on My Computer and click on properties.\n",
    "step 2 :Click on Advanced System settings.\n",
    "step 3:Click on Environment Variable tab.\n",
    "step 4:Click on new tab of user variables.\n",
    "step 5:Write path in variable name.\n",
    "step 6:Copy the path of Python folder.\n",
    "step 7:Paste path of Python in variable value.\n",
    "step 8:Click on Ok button"
   ]
  },
  {
   "cell_type": "code",
   "execution_count": null,
   "id": "db5ede76-50d4-43b2-9cc7-809d9badaca7",
   "metadata": {},
   "outputs": [],
   "source": [
    "#16  Is indentation required in python?\n",
    "Indentation is important to Python"
   ]
  }
 ],
 "metadata": {
  "kernelspec": {
   "display_name": "Python 3 (ipykernel)",
   "language": "python",
   "name": "python3"
  },
  "language_info": {
   "codemirror_mode": {
    "name": "ipython",
    "version": 3
   },
   "file_extension": ".py",
   "mimetype": "text/x-python",
   "name": "python",
   "nbconvert_exporter": "python",
   "pygments_lexer": "ipython3",
   "version": "3.10.8"
  }
 },
 "nbformat": 4,
 "nbformat_minor": 5
}
